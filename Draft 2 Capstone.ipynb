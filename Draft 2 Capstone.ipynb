{
 "cells": [
  {
   "cell_type": "code",
   "execution_count": 132,
   "metadata": {
    "scrolled": true
   },
   "outputs": [
    {
     "name": "stdout",
     "output_type": "stream",
     "text": [
      "             Timestamp  Age  Gender         Country state self_employed  \\\n",
      "0  2014-08-27 11:29:31   37  Female   United States    IL           NaN   \n",
      "1  2014-08-27 11:29:37   44       M   United States    IN           NaN   \n",
      "2  2014-08-27 11:29:44   32    Male          Canada   NaN           NaN   \n",
      "3  2014-08-27 11:29:46   31    Male  United Kingdom   NaN           NaN   \n",
      "4  2014-08-27 11:30:22   31    Male   United States    TX           NaN   \n",
      "\n",
      "  family_history treatment work_interfere    no_employees   ...     \\\n",
      "0             No       Yes          Often            6-25   ...      \n",
      "1             No        No         Rarely  More than 1000   ...      \n",
      "2             No        No         Rarely            6-25   ...      \n",
      "3            Yes       Yes          Often          26-100   ...      \n",
      "4             No        No          Never         100-500   ...      \n",
      "\n",
      "                leave mental_health_consequence phys_health_consequence  \\\n",
      "0       Somewhat easy                        No                      No   \n",
      "1          Don't know                     Maybe                      No   \n",
      "2  Somewhat difficult                        No                      No   \n",
      "3  Somewhat difficult                       Yes                     Yes   \n",
      "4          Don't know                        No                      No   \n",
      "\n",
      "      coworkers supervisor mental_health_interview phys_health_interview  \\\n",
      "0  Some of them        Yes                      No                 Maybe   \n",
      "1            No         No                      No                    No   \n",
      "2           Yes        Yes                     Yes                   Yes   \n",
      "3  Some of them         No                   Maybe                 Maybe   \n",
      "4  Some of them        Yes                     Yes                   Yes   \n",
      "\n",
      "  mental_vs_physical obs_consequence comments  \n",
      "0                Yes              No      NaN  \n",
      "1         Don't know              No      NaN  \n",
      "2                 No              No      NaN  \n",
      "3                 No             Yes      NaN  \n",
      "4         Don't know              No      NaN  \n",
      "\n",
      "[5 rows x 27 columns]\n"
     ]
    }
   ],
   "source": [
    "import numpy as np\n",
    "import pandas as pd\n",
    "import matplotlib.pyplot as plt\n",
    "import seaborn as sns\n",
    "%matplotlib inline\n",
    "\n",
    "df = pd.read_csv('survey.csv')\n",
    "print(df.head())\n"
   ]
  },
  {
   "cell_type": "markdown",
   "metadata": {},
   "source": [
    "### Introduction\n",
    "\n",
    "This data set was procured from Kaggle.com.\n",
    "\n",
    "There are a number of columns in this data set which explores mental health through a number of employees within an industry. There are many factors here including those which shows how a company deals with mental health issues in regards to insurance, leave time etc. For the most part we will be ignoring this information to look at the information of the employees themselves and how they deal with their own mental health issues. \n",
    "\n",
    "### The Problem\n",
    "\n",
    "When employers are hiring potentinal employees it is important to know all potential current and future health problems. This is important for a number of reasons, from providing health care, to being able to predict when employees will not be able to work. Mental health risks pose problems for both the employer and employee if not properly diagnosed and dealt with. Is there a way that would make it easier to predict which employees would be more susceptible to mental health treatment?\n",
    "\n",
    "The first variable we wanted to look at as a possible predictor of mental health issues was family history. "
   ]
  },
  {
   "cell_type": "code",
   "execution_count": 133,
   "metadata": {},
   "outputs": [
    {
     "data": {
      "text/html": [
       "<div>\n",
       "<style>\n",
       "    .dataframe thead tr:only-child th {\n",
       "        text-align: right;\n",
       "    }\n",
       "\n",
       "    .dataframe thead th {\n",
       "        text-align: left;\n",
       "    }\n",
       "\n",
       "    .dataframe tbody tr th {\n",
       "        vertical-align: top;\n",
       "    }\n",
       "</style>\n",
       "<table border=\"1\" class=\"dataframe\">\n",
       "  <thead>\n",
       "    <tr style=\"text-align: right;\">\n",
       "      <th></th>\n",
       "      <th>Timestamp</th>\n",
       "      <th>Age</th>\n",
       "      <th>Gender</th>\n",
       "      <th>Country</th>\n",
       "      <th>state</th>\n",
       "      <th>self_employed</th>\n",
       "      <th>treatment</th>\n",
       "      <th>work_interfere</th>\n",
       "      <th>no_employees</th>\n",
       "      <th>remote_work</th>\n",
       "      <th>...</th>\n",
       "      <th>leave</th>\n",
       "      <th>mental_health_consequence</th>\n",
       "      <th>phys_health_consequence</th>\n",
       "      <th>coworkers</th>\n",
       "      <th>supervisor</th>\n",
       "      <th>mental_health_interview</th>\n",
       "      <th>phys_health_interview</th>\n",
       "      <th>mental_vs_physical</th>\n",
       "      <th>obs_consequence</th>\n",
       "      <th>comments</th>\n",
       "    </tr>\n",
       "    <tr>\n",
       "      <th>family_history</th>\n",
       "      <th></th>\n",
       "      <th></th>\n",
       "      <th></th>\n",
       "      <th></th>\n",
       "      <th></th>\n",
       "      <th></th>\n",
       "      <th></th>\n",
       "      <th></th>\n",
       "      <th></th>\n",
       "      <th></th>\n",
       "      <th></th>\n",
       "      <th></th>\n",
       "      <th></th>\n",
       "      <th></th>\n",
       "      <th></th>\n",
       "      <th></th>\n",
       "      <th></th>\n",
       "      <th></th>\n",
       "      <th></th>\n",
       "      <th></th>\n",
       "      <th></th>\n",
       "    </tr>\n",
       "  </thead>\n",
       "  <tbody>\n",
       "    <tr>\n",
       "      <th>No</th>\n",
       "      <td>767</td>\n",
       "      <td>767</td>\n",
       "      <td>767</td>\n",
       "      <td>767</td>\n",
       "      <td>419</td>\n",
       "      <td>756</td>\n",
       "      <td>767</td>\n",
       "      <td>546</td>\n",
       "      <td>767</td>\n",
       "      <td>767</td>\n",
       "      <td>...</td>\n",
       "      <td>767</td>\n",
       "      <td>767</td>\n",
       "      <td>767</td>\n",
       "      <td>767</td>\n",
       "      <td>767</td>\n",
       "      <td>767</td>\n",
       "      <td>767</td>\n",
       "      <td>767</td>\n",
       "      <td>767</td>\n",
       "      <td>75</td>\n",
       "    </tr>\n",
       "    <tr>\n",
       "      <th>Yes</th>\n",
       "      <td>492</td>\n",
       "      <td>492</td>\n",
       "      <td>492</td>\n",
       "      <td>492</td>\n",
       "      <td>325</td>\n",
       "      <td>485</td>\n",
       "      <td>492</td>\n",
       "      <td>449</td>\n",
       "      <td>492</td>\n",
       "      <td>492</td>\n",
       "      <td>...</td>\n",
       "      <td>492</td>\n",
       "      <td>492</td>\n",
       "      <td>492</td>\n",
       "      <td>492</td>\n",
       "      <td>492</td>\n",
       "      <td>492</td>\n",
       "      <td>492</td>\n",
       "      <td>492</td>\n",
       "      <td>492</td>\n",
       "      <td>89</td>\n",
       "    </tr>\n",
       "  </tbody>\n",
       "</table>\n",
       "<p>2 rows × 26 columns</p>\n",
       "</div>"
      ],
      "text/plain": [
       "                Timestamp  Age  Gender  Country  state  self_employed  \\\n",
       "family_history                                                          \n",
       "No                    767  767     767      767    419            756   \n",
       "Yes                   492  492     492      492    325            485   \n",
       "\n",
       "                treatment  work_interfere  no_employees  remote_work  \\\n",
       "family_history                                                         \n",
       "No                    767             546           767          767   \n",
       "Yes                   492             449           492          492   \n",
       "\n",
       "                  ...     leave  mental_health_consequence  \\\n",
       "family_history    ...                                        \n",
       "No                ...       767                        767   \n",
       "Yes               ...       492                        492   \n",
       "\n",
       "                phys_health_consequence  coworkers  supervisor  \\\n",
       "family_history                                                   \n",
       "No                                  767        767         767   \n",
       "Yes                                 492        492         492   \n",
       "\n",
       "                mental_health_interview  phys_health_interview  \\\n",
       "family_history                                                   \n",
       "No                                  767                    767   \n",
       "Yes                                 492                    492   \n",
       "\n",
       "                mental_vs_physical  obs_consequence  comments  \n",
       "family_history                                                 \n",
       "No                             767              767        75  \n",
       "Yes                            492              492        89  \n",
       "\n",
       "[2 rows x 26 columns]"
      ]
     },
     "execution_count": 133,
     "metadata": {},
     "output_type": "execute_result"
    }
   ],
   "source": [
    "df.groupby('family_history').count()"
   ]
  },
  {
   "cell_type": "code",
   "execution_count": 134,
   "metadata": {},
   "outputs": [
    {
     "data": {
      "text/html": [
       "<div>\n",
       "<style>\n",
       "    .dataframe thead tr:only-child th {\n",
       "        text-align: right;\n",
       "    }\n",
       "\n",
       "    .dataframe thead th {\n",
       "        text-align: left;\n",
       "    }\n",
       "\n",
       "    .dataframe tbody tr th {\n",
       "        vertical-align: top;\n",
       "    }\n",
       "</style>\n",
       "<table border=\"1\" class=\"dataframe\">\n",
       "  <thead>\n",
       "    <tr style=\"text-align: right;\">\n",
       "      <th></th>\n",
       "      <th>Timestamp</th>\n",
       "      <th>Age</th>\n",
       "      <th>Gender</th>\n",
       "      <th>Country</th>\n",
       "      <th>state</th>\n",
       "      <th>self_employed</th>\n",
       "      <th>family_history</th>\n",
       "      <th>work_interfere</th>\n",
       "      <th>no_employees</th>\n",
       "      <th>remote_work</th>\n",
       "      <th>...</th>\n",
       "      <th>leave</th>\n",
       "      <th>mental_health_consequence</th>\n",
       "      <th>phys_health_consequence</th>\n",
       "      <th>coworkers</th>\n",
       "      <th>supervisor</th>\n",
       "      <th>mental_health_interview</th>\n",
       "      <th>phys_health_interview</th>\n",
       "      <th>mental_vs_physical</th>\n",
       "      <th>obs_consequence</th>\n",
       "      <th>comments</th>\n",
       "    </tr>\n",
       "    <tr>\n",
       "      <th>treatment</th>\n",
       "      <th></th>\n",
       "      <th></th>\n",
       "      <th></th>\n",
       "      <th></th>\n",
       "      <th></th>\n",
       "      <th></th>\n",
       "      <th></th>\n",
       "      <th></th>\n",
       "      <th></th>\n",
       "      <th></th>\n",
       "      <th></th>\n",
       "      <th></th>\n",
       "      <th></th>\n",
       "      <th></th>\n",
       "      <th></th>\n",
       "      <th></th>\n",
       "      <th></th>\n",
       "      <th></th>\n",
       "      <th></th>\n",
       "      <th></th>\n",
       "      <th></th>\n",
       "    </tr>\n",
       "  </thead>\n",
       "  <tbody>\n",
       "    <tr>\n",
       "      <th>No</th>\n",
       "      <td>622</td>\n",
       "      <td>622</td>\n",
       "      <td>622</td>\n",
       "      <td>622</td>\n",
       "      <td>337</td>\n",
       "      <td>613</td>\n",
       "      <td>622</td>\n",
       "      <td>362</td>\n",
       "      <td>622</td>\n",
       "      <td>622</td>\n",
       "      <td>...</td>\n",
       "      <td>622</td>\n",
       "      <td>622</td>\n",
       "      <td>622</td>\n",
       "      <td>622</td>\n",
       "      <td>622</td>\n",
       "      <td>622</td>\n",
       "      <td>622</td>\n",
       "      <td>622</td>\n",
       "      <td>622</td>\n",
       "      <td>58</td>\n",
       "    </tr>\n",
       "    <tr>\n",
       "      <th>Yes</th>\n",
       "      <td>637</td>\n",
       "      <td>637</td>\n",
       "      <td>637</td>\n",
       "      <td>637</td>\n",
       "      <td>407</td>\n",
       "      <td>628</td>\n",
       "      <td>637</td>\n",
       "      <td>633</td>\n",
       "      <td>637</td>\n",
       "      <td>637</td>\n",
       "      <td>...</td>\n",
       "      <td>637</td>\n",
       "      <td>637</td>\n",
       "      <td>637</td>\n",
       "      <td>637</td>\n",
       "      <td>637</td>\n",
       "      <td>637</td>\n",
       "      <td>637</td>\n",
       "      <td>637</td>\n",
       "      <td>637</td>\n",
       "      <td>106</td>\n",
       "    </tr>\n",
       "  </tbody>\n",
       "</table>\n",
       "<p>2 rows × 26 columns</p>\n",
       "</div>"
      ],
      "text/plain": [
       "           Timestamp  Age  Gender  Country  state  self_employed  \\\n",
       "treatment                                                          \n",
       "No               622  622     622      622    337            613   \n",
       "Yes              637  637     637      637    407            628   \n",
       "\n",
       "           family_history  work_interfere  no_employees  remote_work  \\\n",
       "treatment                                                              \n",
       "No                    622             362           622          622   \n",
       "Yes                   637             633           637          637   \n",
       "\n",
       "             ...     leave  mental_health_consequence  \\\n",
       "treatment    ...                                        \n",
       "No           ...       622                        622   \n",
       "Yes          ...       637                        637   \n",
       "\n",
       "           phys_health_consequence  coworkers  supervisor  \\\n",
       "treatment                                                   \n",
       "No                             622        622         622   \n",
       "Yes                            637        637         637   \n",
       "\n",
       "           mental_health_interview  phys_health_interview  mental_vs_physical  \\\n",
       "treatment                                                                       \n",
       "No                             622                    622                 622   \n",
       "Yes                            637                    637                 637   \n",
       "\n",
       "           obs_consequence  comments  \n",
       "treatment                             \n",
       "No                     622        58  \n",
       "Yes                    637       106  \n",
       "\n",
       "[2 rows x 26 columns]"
      ]
     },
     "execution_count": 134,
     "metadata": {},
     "output_type": "execute_result"
    }
   ],
   "source": [
    "df.groupby('treatment').count()"
   ]
  },
  {
   "cell_type": "code",
   "execution_count": 135,
   "metadata": {},
   "outputs": [
    {
     "data": {
      "text/plain": [
       "Timestamp                    365\n",
       "Age                          365\n",
       "Gender                       365\n",
       "Country                      365\n",
       "state                        247\n",
       "self_employed                360\n",
       "family_history               365\n",
       "treatment                    365\n",
       "work_interfere               364\n",
       "no_employees                 365\n",
       "remote_work                  365\n",
       "tech_company                 365\n",
       "benefits                     365\n",
       "care_options                 365\n",
       "wellness_program             365\n",
       "seek_help                    365\n",
       "anonymity                    365\n",
       "leave                        365\n",
       "mental_health_consequence    365\n",
       "phys_health_consequence      365\n",
       "coworkers                    365\n",
       "supervisor                   365\n",
       "mental_health_interview      365\n",
       "phys_health_interview        365\n",
       "mental_vs_physical           365\n",
       "obs_consequence              365\n",
       "comments                      71\n",
       "dtype: int64"
      ]
     },
     "execution_count": 135,
     "metadata": {},
     "output_type": "execute_result"
    }
   ],
   "source": [
    "fam_treatment = df[(df['treatment']=='Yes') & (df['family_history']=='Yes')]\n",
    "fam_treatment.count()"
   ]
  },
  {
   "cell_type": "code",
   "execution_count": 144,
   "metadata": {},
   "outputs": [],
   "source": [
    "fam_no_treatment = df[(df['treatment']=='No') & (df['family_history']=='Yes')]\n",
    "#fam_no_treatment.count() 127"
   ]
  },
  {
   "cell_type": "code",
   "execution_count": 141,
   "metadata": {},
   "outputs": [],
   "source": [
    "no_fam_no_treatment =df[(df['treatment']=='No') & (df['family_history']=='No')]\n",
    "#no_fam_no_treatment.count() 495"
   ]
  },
  {
   "cell_type": "code",
   "execution_count": 140,
   "metadata": {},
   "outputs": [],
   "source": [
    "no_fam_treatment = df[(df['treatment']=='Yes') & (df['family_history']=='No')]\n",
    "#no_fam_treatment.count() 272"
   ]
  },
  {
   "cell_type": "code",
   "execution_count": 143,
   "metadata": {},
   "outputs": [],
   "source": [
    "industry_treatment = df[(df['treatment']=='Yes')& (df['tech_company']=='Yes')]\n",
    "#industry_treatment.count() 514"
   ]
  },
  {
   "cell_type": "code",
   "execution_count": 47,
   "metadata": {},
   "outputs": [
    {
     "data": {
      "image/png": "[encoded data removed]",
      "text/plain": [
       "<matplotlib.figure.Figure at 0x4b5abdb6d8>"
      ]
     },
     "metadata": {},
     "output_type": "display_data"
    }
   ],
   "source": [
    "labels = 'Fam History + Treatment', 'Fam History + No Treatment', 'No Fam History + Treatment', 'No Fam History + No Treatment'\n",
    "sizes = [365, 127, 272, 495]\n",
    "colors = ['gold', 'yellowgreen', 'lightcoral', 'lightskyblue']\n",
    " \n",
    "\n",
    "plt.pie(sizes, labels=labels, colors=colors,\n",
    "        autopct='%1.1f%%', shadow=True, startangle=140)\n",
    "plt.title('Treatment of Patients With/Without Family History') \n",
    "plt.axis('equal')\n",
    "plt.show()"
   ]
  },
  {
   "cell_type": "code",
   "execution_count": 48,
   "metadata": {},
   "outputs": [
    {
     "data": {
      "image/png": "[encoded data removed]",
      "text/plain": [
       "<matplotlib.figure.Figure at 0x4b5ac54e80>"
      ]
     },
     "metadata": {},
     "output_type": "display_data"
    }
   ],
   "source": [
    "labels = 'Treatment', 'No Treatment'\n",
    "sizes = [365, 127]\n",
    "colors = ['gold', 'yellowgreen']\n",
    " \n",
    "\n",
    "plt.pie(sizes, labels=labels, colors=colors,\n",
    "        autopct='%1.1f%%', shadow=True, startangle=140)\n",
    "plt.title('Treatment of Patients With Family History') \n",
    "plt.axis('equal')\n",
    "plt.show()"
   ]
  },
  {
   "cell_type": "markdown",
   "metadata": {},
   "source": [
    "When looking at the two pie charts above we can see that among patients with a family history almost 75% received treatment for mental health issues. 29% of the about 50% of employees surveyed who received treatment had family history, again indicating that family history seems to be a good predictor of current day issues. I think this can be a valuable asset for employers and employees. Our study will look deeper into this variable."
   ]
  },
  {
   "cell_type": "code",
   "execution_count": 56,
   "metadata": {},
   "outputs": [
    {
     "data": {
      "image/png": "[encoded data removed]",
      "text/plain": [
       "<matplotlib.figure.Figure at 0x4b5ad3f748>"
      ]
     },
     "metadata": {},
     "output_type": "display_data"
    }
   ],
   "source": [
    "labels = 'Tech + Treatment', 'Tech + No Treatment', 'No Tech + Treatment', 'No Tech + No Treatment'\n",
    "sizes = [514, 517, 123, 105]\n",
    "colors = ['gold', 'yellowgreen', 'lightcoral', 'lightskyblue']\n",
    " \n",
    "\n",
    "plt.pie(sizes, labels=labels, colors=colors,\n",
    "        autopct='%1.1f%%', shadow=True, startangle=140)\n",
    "plt.title('Treatment of Patients In Tech Industry') \n",
    "plt.axis('equal')\n",
    "plt.show()"
   ]
  },
  {
   "cell_type": "code",
   "execution_count": 58,
   "metadata": {},
   "outputs": [
    {
     "data": {
      "image/png": "[encoded data removed]",
      "text/plain": [
       "<matplotlib.figure.Figure at 0x4b60592b70>"
      ]
     },
     "metadata": {},
     "output_type": "display_data"
    }
   ],
   "source": [
    "labels = 'Treatment',  'No Treatment', \n",
    "sizes = [514, 517]\n",
    "colors = ['gold', 'yellowgreen',]\n",
    " \n",
    "\n",
    "plt.pie(sizes, labels=labels, colors=colors,\n",
    "        autopct='%1.1f%%', shadow=True, startangle=140)\n",
    "plt.title('Treatment of Patients In Tech Industry') \n",
    "plt.axis('equal')\n",
    "plt.show()"
   ]
  },
  {
   "cell_type": "markdown",
   "metadata": {},
   "source": [
    "After looking at the data from the tech industry there is no difference for treamtment inside or outside of the industry. We decide not to test this variable. For continued further study one can look to test different industries and how they affect mental health treatment."
   ]
  },
  {
   "cell_type": "code",
   "execution_count": 125,
   "metadata": {},
   "outputs": [],
   "source": [
    "df['female'] = df.Gender.apply(lambda x: 1 if x.lower()[0] =='f'  else 0 )\n",
    "#Many respondents would put F or f or female for gender. This will classify all these responses as females."
   ]
  },
  {
   "cell_type": "code",
   "execution_count": 116,
   "metadata": {},
   "outputs": [],
   "source": [
    "df['age_bins']=df.Age.apply(lambda x: 1 if x< 20 else(2 if x<30 else (3 if x<40 else (4 if x<50 else 5))))\n",
    "#We are taking the ages and putting them into 5 bins to make the data easier to work with."
   ]
  },
  {
   "cell_type": "code",
   "execution_count": 117,
   "metadata": {},
   "outputs": [
    {
     "data": {
      "text/plain": [
       "3    554\n",
       "2    500\n",
       "4    149\n",
       "5     34\n",
       "1     22\n",
       "Name: age_bins, dtype: int64"
      ]
     },
     "execution_count": 117,
     "metadata": {},
     "output_type": "execute_result"
    }
   ],
   "source": [
    "age=df['age_bins']\n",
    "age.value_counts()"
   ]
  },
  {
   "cell_type": "markdown",
   "metadata": {},
   "source": [
    "The vast majority of new employees fall into the 20-40 range. This is expected as most new employees are hired from this age range. Still however it will be important for companies to be aware of risks when hiring uncommonly young or old employees. Since we don't have enough data on outlier employees to accurately test that information here, we will request that it is tested in the experiment. "
   ]
  },
  {
   "cell_type": "code",
   "execution_count": 130,
   "metadata": {
    "collapsed": true
   },
   "outputs": [],
   "source": [
    "df['treatment']=df.treatment.apply(lambda x: 1 if x=='Yes' else  0)\n",
    "df['family_history']=df.family_history.apply(lambda x: 1 if x=='Yes' else  0)\n",
    "#We are translating yes/no in our data to 1 0 to better see correlation. "
   ]
  },
  {
   "cell_type": "code",
   "execution_count": 127,
   "metadata": {},
   "outputs": [
    {
     "name": "stdout",
     "output_type": "stream",
     "text": [
      "      female  age_bins  family_history  treatment\n",
      "0          1         3               0          1\n",
      "1          0         4               0          0\n",
      "2          0         3               0          0\n",
      "3          0         3               1          1\n",
      "4          0         3               0          0\n",
      "5          0         3               1          0\n",
      "6          1         3               1          1\n",
      "7          0         3               0          0\n",
      "8          1         4               1          1\n",
      "9          0         2               0          0\n",
      "10         0         3               0          1\n",
      "11         0         2               0          0\n",
      "12         1         4               1          1\n",
      "13         0         3               1          0\n",
      "14         0         2               0          0\n",
      "15         1         2               1          1\n",
      "16         0         2               0          1\n",
      "17         0         3               0          1\n",
      "18         0         4               1          0\n",
      "19         0         3               1          0\n",
      "20         0         2               1          1\n",
      "21         0         3               0          0\n",
      "22         0         4               0          1\n",
      "23         0         4               0          1\n",
      "24         0         3               1          1\n",
      "25         0         3               1          1\n",
      "26         0         3               0          0\n",
      "27         1         3               1          1\n",
      "28         0         3               0          1\n",
      "29         0         3               0          0\n",
      "...      ...       ...             ...        ...\n",
      "1229       0         3               0          0\n",
      "1230       1         2               1          1\n",
      "1231       0         2               0          1\n",
      "1232       0         2               1          1\n",
      "1233       0         2               0          1\n",
      "1234       0         2               0          1\n",
      "1235       0         2               0          1\n",
      "1236       0         5               0          1\n",
      "1237       0         2               0          0\n",
      "1238       0         2               1          1\n",
      "1239       0         3               0          0\n",
      "1240       0         3               1          1\n",
      "1241       0         3               0          1\n",
      "1242       0         2               0          1\n",
      "1243       1         4               1          1\n",
      "1244       1         3               0          0\n",
      "1245       0         2               1          1\n",
      "1246       0         3               0          0\n",
      "1247       0         3               0          1\n",
      "1248       1         4               1          1\n",
      "1249       0         3               1          1\n",
      "1250       0         3               1          1\n",
      "1251       0         3               1          1\n",
      "1252       0         2               1          1\n",
      "1253       0         3               1          0\n",
      "1254       0         2               0          1\n",
      "1255       0         3               1          1\n",
      "1256       0         3               1          1\n",
      "1257       1         4               0          0\n",
      "1258       0         2               1          1\n",
      "\n",
      "[1259 rows x 4 columns]\n"
     ]
    }
   ],
   "source": [
    "new = df.filter(['female','age_bins','family_history','treatment'], axis=1)\n",
    "print(new)"
   ]
  },
  {
   "cell_type": "code",
   "execution_count": 128,
   "metadata": {},
   "outputs": [
    {
     "data": {
      "text/html": [
       "<div>\n",
       "<style>\n",
       "    .dataframe thead tr:only-child th {\n",
       "        text-align: right;\n",
       "    }\n",
       "\n",
       "    .dataframe thead th {\n",
       "        text-align: left;\n",
       "    }\n",
       "\n",
       "    .dataframe tbody tr th {\n",
       "        vertical-align: top;\n",
       "    }\n",
       "</style>\n",
       "<table border=\"1\" class=\"dataframe\">\n",
       "  <thead>\n",
       "    <tr style=\"text-align: right;\">\n",
       "      <th></th>\n",
       "      <th>female</th>\n",
       "      <th>age_bins</th>\n",
       "      <th>family_history</th>\n",
       "      <th>treatment</th>\n",
       "    </tr>\n",
       "  </thead>\n",
       "  <tbody>\n",
       "    <tr>\n",
       "      <th>female</th>\n",
       "      <td>1.000000</td>\n",
       "      <td>-0.067625</td>\n",
       "      <td>0.138573</td>\n",
       "      <td>0.183058</td>\n",
       "    </tr>\n",
       "    <tr>\n",
       "      <th>age_bins</th>\n",
       "      <td>-0.067625</td>\n",
       "      <td>1.000000</td>\n",
       "      <td>0.020138</td>\n",
       "      <td>0.075196</td>\n",
       "    </tr>\n",
       "    <tr>\n",
       "      <th>family_history</th>\n",
       "      <td>0.138573</td>\n",
       "      <td>0.020138</td>\n",
       "      <td>1.000000</td>\n",
       "      <td>0.377918</td>\n",
       "    </tr>\n",
       "    <tr>\n",
       "      <th>treatment</th>\n",
       "      <td>0.183058</td>\n",
       "      <td>0.075196</td>\n",
       "      <td>0.377918</td>\n",
       "      <td>1.000000</td>\n",
       "    </tr>\n",
       "  </tbody>\n",
       "</table>\n",
       "</div>"
      ],
      "text/plain": [
       "                  female  age_bins  family_history  treatment\n",
       "female          1.000000 -0.067625        0.138573   0.183058\n",
       "age_bins       -0.067625  1.000000        0.020138   0.075196\n",
       "family_history  0.138573  0.020138        1.000000   0.377918\n",
       "treatment       0.183058  0.075196        0.377918   1.000000"
      ]
     },
     "execution_count": 128,
     "metadata": {},
     "output_type": "execute_result"
    }
   ],
   "source": [
    "corrframe = pd.DataFrame(new.corr())\n",
    "corrframe\n",
    "#Here we can see the correlation between our three variables we wish to test and treatment. "
   ]
  },
  {
   "cell_type": "code",
   "execution_count": 129,
   "metadata": {},
   "outputs": [
    {
     "data": {
      "text/plain": [
       "<matplotlib.text.Text at 0x4b60892710>"
      ]
     },
     "execution_count": 129,
     "metadata": {},
     "output_type": "execute_result"
    },
    {
     "data": {
      "image/png": "[encoded data removed]",
      "text/plain": [
       "<matplotlib.figure.Figure at 0x4b60842198>"
      ]
     },
     "metadata": {},
     "output_type": "display_data"
    }
   ],
   "source": [
    "sns.heatmap(corrframe)\n",
    "sns.plt.title('Heatmap of Correlation Matrix')"
   ]
  },
  {
   "cell_type": "markdown",
   "metadata": {},
   "source": [
    "By looking at our correlation matrix we once again see that family history and treatment are closely related. We can also see that being a female also seems to correlate with receiving mental health treatment. Again it is important to keep in mind this number does not mean females suffer more from mental illness, but rather that they seek treatment more often than males. Our age bins show very little correlation, but this can be expected based on the uneven distribution. As we stated before it will still be valuable to test the age variable in our actual experiment. "
   ]
  },
  {
   "cell_type": "markdown",
   "metadata": {},
   "source": [
    "\n",
    "### Hypothesis\n",
    "\n",
    "By identifying certain factors such as family history, age, and gender employers and employees can more accurately predict future mental health issues. \n"
   ]
  },
  {
   "cell_type": "markdown",
   "metadata": {},
   "source": [
    "### Procedure\n",
    "Conduct three A/B tests independently on three variables age, gender and family history and conduct two proportion Z test. The goal of this proposed experiment is to understand the impact of each variable on having mental issues. Note, this will be a long term experiment, can take a few years until the observed effect.\n",
    "\n",
    "Our first hypothesis would be that females undergo treatment at a higher rate than male. It is important to note that this does not necessarily mean they suffer more mental illnesses than men, but rather simply that they seek treatment more often. To test this hypothesis we would take a control group of male new employees and an experimental group of female new employees. Ideally these new employees would be working at the same company, or at least same industry or location, and be around the same age. After a period of a few years or so we can track employees and see which group has the higher rate of mental health treatment.\n",
    "\n",
    "Our second hypothesis would be that employees who fall into age bins 1-2 seek treatment at a higher rate than those who fall into 3-5. In this example our control group would be mostly older new employees and our experimental group would be mostly younger new employees. Again ideally they would all be working for the same company with the same conditions and both groups would have both males and females.\n",
    "\n",
    "Our thid hypothesis indicates that employees with a family history would be more likely to seek treatment than those with out. This experiment would be a little trickier, requiring new employees to fill out a survey about their family history. After the survey was filled out the control group would be the new employees without a family history and the experimental group would be those with a family history. Again keeping the other variables as similar as possible. \n"
   ]
  },
  {
   "cell_type": "markdown",
   "metadata": {},
   "source": [
    "### Testing\n",
    "Two Samples z-test for Proportions\n",
    "z=p1^−p2^p̂ (1−p̂ )(1n1+1n2)√z=p1^−p2^p^(1−p^)(1n1+1n2)\n",
    "where\n",
    "p1^=x1n1,p2^=x2n2p1^=x1n1,p2^=x2n2 \n",
    "p̂ =x1+x2n1+n2p^=x1+x2n1+n2 \n",
    "x1,x2x1,x2  - number of employees with treament in group 1 and 2\n",
    "n1,n2n1,n2  - number of employees sampled in group 1 and 2\n",
    "\n",
    "We perform the experiment, find our Z-statistic, and look up the corresponding p-value to determine whether we reject or fail to reject the null hypothesis. We can have the set up to test other variables such as age and gender."
   ]
  },
  {
   "cell_type": "markdown",
   "metadata": {},
   "source": [
    "### Success\n",
    "\n",
    "What would define a success in this experiment would be that if after the z testing was done our hypothesis were all proved to be accurate. This would give us a much more detailed idea of what factors lead to new employees seeking mental treatment. Again this would benefit both the employers and the employees as both are able to plan for the future with more ease than before. If treatments become more predictable employers can allot specific health insurance benefits for their employees or be able to plan out time away from the office on a more accurate basis. Employees will also benefit as they will be able to seek employers which better suit their mental health needs."
   ]
  },
  {
   "cell_type": "code",
   "execution_count": null,
   "metadata": {
    "collapsed": true
   },
   "outputs": [],
   "source": []
  }
 ],
 "metadata": {
  "kernelspec": {
   "display_name": "Python 3",
   "language": "python",
   "name": "python3"
  },
  "language_info": {
   "codemirror_mode": {
    "name": "ipython",
    "version": 3
   },
   "file_extension": ".py",
   "mimetype": "text/x-python",
   "name": "python",
   "nbconvert_exporter": "python",
   "pygments_lexer": "ipython3",
   "version": "3.6.1"
  }
 },
 "nbformat": 4,
 "nbformat_minor": 2
}
